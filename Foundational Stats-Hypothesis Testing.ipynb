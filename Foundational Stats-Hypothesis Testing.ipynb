{
 "cells": [
  {
   "cell_type": "markdown",
   "metadata": {},
   "source": [
    "### Foundational Statistics in Python"
   ]
  },
  {
   "cell_type": "markdown",
   "metadata": {},
   "source": [
    "##### This notebook performs elementary descriptive statistics of populations and samples. Then demostrates three common hypothesis tests- Welch t-test, Correlation test, Chi-square test. It shows how to run them in python and undertand the results \n"
   ]
  },
  {
   "cell_type": "code",
   "execution_count": 1,
   "metadata": {},
   "outputs": [],
   "source": [
    "import pandas as pd\n",
    "import numpy as np"
   ]
  },
  {
   "cell_type": "code",
   "execution_count": 2,
   "metadata": {},
   "outputs": [],
   "source": [
    "# get data\n",
    "url = \"http://peopleanalytics-regression-book.org/data/salespeople.csv\"\n",
    "salespeople = pd.read_csv(url)"
   ]
  },
  {
   "cell_type": "code",
   "execution_count": 3,
   "metadata": {},
   "outputs": [],
   "source": [
    "mean_sales=salespeople.sales.mean()"
   ]
  },
  {
   "cell_type": "code",
   "execution_count": 4,
   "metadata": {},
   "outputs": [
    {
     "name": "stdout",
     "output_type": "stream",
     "text": [
      "527.0057142857142\n"
     ]
    }
   ],
   "source": [
    "print(mean_sales)"
   ]
  },
  {
   "cell_type": "code",
   "execution_count": 5,
   "metadata": {},
   "outputs": [
    {
     "data": {
      "text/plain": [
       "(351, 4)"
      ]
     },
     "execution_count": 5,
     "metadata": {},
     "output_type": "execute_result"
    }
   ],
   "source": [
    "salespeople.shape"
   ]
  },
  {
   "cell_type": "code",
   "execution_count": 6,
   "metadata": {},
   "outputs": [
    {
     "data": {
      "text/html": [
       "<div>\n",
       "<style scoped>\n",
       "    .dataframe tbody tr th:only-of-type {\n",
       "        vertical-align: middle;\n",
       "    }\n",
       "\n",
       "    .dataframe tbody tr th {\n",
       "        vertical-align: top;\n",
       "    }\n",
       "\n",
       "    .dataframe thead th {\n",
       "        text-align: right;\n",
       "    }\n",
       "</style>\n",
       "<table border=\"1\" class=\"dataframe\">\n",
       "  <thead>\n",
       "    <tr style=\"text-align: right;\">\n",
       "      <th></th>\n",
       "      <th>promoted</th>\n",
       "      <th>sales</th>\n",
       "      <th>customer_rate</th>\n",
       "      <th>performance</th>\n",
       "    </tr>\n",
       "  </thead>\n",
       "  <tbody>\n",
       "    <tr>\n",
       "      <th>0</th>\n",
       "      <td>0</td>\n",
       "      <td>594.0</td>\n",
       "      <td>3.94</td>\n",
       "      <td>2.0</td>\n",
       "    </tr>\n",
       "    <tr>\n",
       "      <th>1</th>\n",
       "      <td>0</td>\n",
       "      <td>446.0</td>\n",
       "      <td>4.06</td>\n",
       "      <td>3.0</td>\n",
       "    </tr>\n",
       "    <tr>\n",
       "      <th>2</th>\n",
       "      <td>1</td>\n",
       "      <td>674.0</td>\n",
       "      <td>3.83</td>\n",
       "      <td>4.0</td>\n",
       "    </tr>\n",
       "    <tr>\n",
       "      <th>3</th>\n",
       "      <td>0</td>\n",
       "      <td>525.0</td>\n",
       "      <td>3.62</td>\n",
       "      <td>2.0</td>\n",
       "    </tr>\n",
       "    <tr>\n",
       "      <th>4</th>\n",
       "      <td>1</td>\n",
       "      <td>657.0</td>\n",
       "      <td>4.40</td>\n",
       "      <td>3.0</td>\n",
       "    </tr>\n",
       "  </tbody>\n",
       "</table>\n",
       "</div>"
      ],
      "text/plain": [
       "   promoted  sales  customer_rate  performance\n",
       "0         0  594.0           3.94          2.0\n",
       "1         0  446.0           4.06          3.0\n",
       "2         1  674.0           3.83          4.0\n",
       "3         0  525.0           3.62          2.0\n",
       "4         1  657.0           4.40          3.0"
      ]
     },
     "execution_count": 6,
     "metadata": {},
     "output_type": "execute_result"
    }
   ],
   "source": [
    "salespeople.head()"
   ]
  },
  {
   "cell_type": "code",
   "execution_count": 7,
   "metadata": {},
   "outputs": [
    {
     "name": "stdout",
     "output_type": "stream",
     "text": [
      "34308.11458043389\n"
     ]
    }
   ],
   "source": [
    "# sample variance\n",
    "var_sales = salespeople.sales.var()\n",
    "print(var_sales)"
   ]
  },
  {
   "cell_type": "code",
   "execution_count": 8,
   "metadata": {},
   "outputs": [
    {
     "name": "stdout",
     "output_type": "stream",
     "text": [
      "185.2244977869663\n"
     ]
    }
   ],
   "source": [
    "sd_sales = salespeople.sales.std()\n",
    "print(sd_sales)"
   ]
  },
  {
   "cell_type": "code",
   "execution_count": 9,
   "metadata": {},
   "outputs": [
    {
     "name": "stdout",
     "output_type": "stream",
     "text": [
      "184.9597020864771\n"
     ]
    }
   ],
   "source": [
    "# population standard deviation\n",
    "popsd_sales = salespeople.sales.std(ddof = 0)\n",
    "print(popsd_sales)"
   ]
  },
  {
   "cell_type": "code",
   "execution_count": 10,
   "metadata": {},
   "outputs": [
    {
     "name": "stdout",
     "output_type": "stream",
     "text": [
      "                      sales  customer_rate\n",
      "sales          34308.114580      55.817691\n",
      "customer_rate     55.817691       0.795820\n"
     ]
    }
   ],
   "source": [
    "# generate a sample covariance matrix between two variables\n",
    "sales_rate = salespeople[['sales', 'customer_rate']]\n",
    "sales_rate = sales_rate[~np.isnan(sales_rate)]\n",
    "cov = sales_rate.cov()\n",
    "print(cov)"
   ]
  },
  {
   "cell_type": "code",
   "execution_count": 11,
   "metadata": {},
   "outputs": [
    {
     "name": "stdout",
     "output_type": "stream",
     "text": [
      "55.817691199345006\n"
     ]
    }
   ],
   "source": [
    "# pull out specific covariances\n",
    "print(cov['sales']['customer_rate'])"
   ]
  },
  {
   "cell_type": "code",
   "execution_count": 12,
   "metadata": {},
   "outputs": [
    {
     "name": "stdout",
     "output_type": "stream",
     "text": [
      "                  sales  customer_rate\n",
      "sales          1.000000       0.337805\n",
      "customer_rate  0.337805       1.000000\n"
     ]
    }
   ],
   "source": [
    "cor = sales_rate.corr()\n",
    "print(cor)"
   ]
  },
  {
   "cell_type": "code",
   "execution_count": 13,
   "metadata": {},
   "outputs": [],
   "source": [
    "#sales and rating have a slightly positive correlation"
   ]
  },
  {
   "cell_type": "code",
   "execution_count": 14,
   "metadata": {},
   "outputs": [
    {
     "data": {
      "text/plain": [
       "SpearmanrResult(correlation=0.27354459847452534, pvalue=2.0065434379079837e-07)"
      ]
     },
     "execution_count": 14,
     "metadata": {},
     "output_type": "execute_result"
    }
   ],
   "source": [
    "#using specific correlation coefficients \n",
    "# spearman's correlation- for continuous scale and a ranked scale variable \n",
    "from scipy import stats\n",
    "stats.spearmanr(salespeople.sales, salespeople.performance, \n",
    "nan_policy='omit')\n"
   ]
  },
  {
   "cell_type": "code",
   "execution_count": 15,
   "metadata": {},
   "outputs": [
    {
     "data": {
      "text/plain": [
       "KendalltauResult(correlation=0.20736088105812, pvalue=2.7353258226376615e-07)"
      ]
     },
     "execution_count": 15,
     "metadata": {},
     "output_type": "execute_result"
    }
   ],
   "source": [
    "# kendall's tau\n",
    "stats.kendalltau(salespeople.sales, salespeople.performance, \n",
    "nan_policy='omit')"
   ]
  },
  {
   "cell_type": "markdown",
   "metadata": {},
   "source": [
    "#### Hypothesis Testing "
   ]
  },
  {
   "cell_type": "markdown",
   "metadata": {},
   "source": [
    "##### Welch’s t-test on a difference in means of samples of unequal variance"
   ]
  },
  {
   "cell_type": "code",
   "execution_count": 16,
   "metadata": {},
   "outputs": [],
   "source": [
    "# get sales for top and bottom performers\n",
    "perf1 = salespeople[salespeople.performance == 1].sales\n",
    "perf4 = salespeople[salespeople.performance == 4].sales"
   ]
  },
  {
   "cell_type": "code",
   "execution_count": 21,
   "metadata": {},
   "outputs": [
    {
     "name": "stdout",
     "output_type": "stream",
     "text": [
      "Ttest_indResult(statistic=4.629477606844271, pvalue=1.0932443461577038e-05)\n"
     ]
    }
   ],
   "source": [
    "# welch's t-test with unequal variance\n",
    "ttest = stats.ttest_ind(perf4, perf1, equal_var=False)\n",
    "print(ttest)"
   ]
  },
  {
   "cell_type": "code",
   "execution_count": null,
   "metadata": {},
   "outputs": [],
   "source": [
    "#alternate hypothesis is true: the two performance groups have a statistically significant difference in mean sales"
   ]
  },
  {
   "cell_type": "markdown",
   "metadata": {},
   "source": [
    "#### Correlation test for non-zero correlation coefficients"
   ]
  },
  {
   "cell_type": "code",
   "execution_count": 23,
   "metadata": {},
   "outputs": [
    {
     "name": "stdout",
     "output_type": "stream",
     "text": [
      "(0.3378050448586781, 8.64795221209082e-11)\n"
     ]
    }
   ],
   "source": [
    "# calculate correlation and p-value \n",
    "sales = salespeople.sales[~np.isnan(salespeople.sales)]\n",
    "\n",
    "cust_rate = salespeople.customer_rate[~np.isnan(salespeople.customer_rate)]\n",
    "\n",
    "cor = stats.pearsonr(sales, cust_rate)\n",
    "print(cor)"
   ]
  },
  {
   "cell_type": "code",
   "execution_count": 24,
   "metadata": {},
   "outputs": [],
   "source": [
    "#alternate hypothesis is true: there is a significant correlation between sales and customer rating"
   ]
  },
  {
   "cell_type": "markdown",
   "metadata": {},
   "source": [
    "#### Chi-square test of difference in frequency distribution between different categories in a data set"
   ]
  },
  {
   "cell_type": "code",
   "execution_count": 25,
   "metadata": {},
   "outputs": [
    {
     "name": "stdout",
     "output_type": "stream",
     "text": [
      "(25.895405268094862, 1.0030629464566802e-05, 3, array([[40.62857143, 74.48571429, 84.64285714, 37.24285714],\n",
      "       [19.37142857, 35.51428571, 40.35714286, 17.75714286]]))\n"
     ]
    }
   ],
   "source": [
    "# create contingency table for promoted versus performance\n",
    "contingency = pd.crosstab(salespeople.promoted, salespeople.performance)\n",
    "\n",
    "# perform chi-square test\n",
    "chi2_test = stats.chi2_contingency(contingency)\n",
    "print(chi2_test)"
   ]
  },
  {
   "cell_type": "code",
   "execution_count": null,
   "metadata": {},
   "outputs": [],
   "source": [
    "#alternative hypothesis is true: there is a difference in the distribution of promoted/not promoted individuals \n",
    "#between the four performance categories"
   ]
  }
 ],
 "metadata": {
  "kernelspec": {
   "display_name": "Python 3",
   "language": "python",
   "name": "python3"
  },
  "language_info": {
   "codemirror_mode": {
    "name": "ipython",
    "version": 3
   },
   "file_extension": ".py",
   "mimetype": "text/x-python",
   "name": "python",
   "nbconvert_exporter": "python",
   "pygments_lexer": "ipython3",
   "version": "3.8.2"
  }
 },
 "nbformat": 4,
 "nbformat_minor": 4
}
